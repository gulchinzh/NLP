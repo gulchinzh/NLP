{
 "cells": [
  {
   "cell_type": "markdown",
   "metadata": {},
   "source": [
    "# 1. Custom Pythonic Way"
   ]
  },
  {
   "cell_type": "markdown",
   "metadata": {},
   "source": [
    "## Grap the file"
   ]
  },
  {
   "cell_type": "code",
   "execution_count": 6,
   "metadata": {},
   "outputs": [],
   "source": [
    "file = \"NCBI_corpus_training.txt\""
   ]
  },
  {
   "cell_type": "code",
   "execution_count": 23,
   "metadata": {},
   "outputs": [
    {
     "name": "stdout",
     "output_type": "stream",
     "text": [
      "10021369\tIdentification of APC2, a homologue of the <category=\"Modifier\">adenomatous polyposis coli tumour</category> suppressor .\tThe <category=\"Modifier\">adenomatous polyposis coli ( APC ) tumour</category>-suppressor protein controls the Wnt signalling pathway by forming a complex with glycogen synthase kinase 3beta ( GSK-3beta ) , axin / conductin and betacatenin . Complex formation induces the rapid degradation of betacatenin . In <category=\"Modifier\">colon carcinoma</category> cells , loss of APC leads to the accumulation of betacatenin in the nucleus , where it binds to and activates the Tcf-4 transcription factor ( reviewed in [ 1 ] [ 2 ] ) . Here , we report the identification and genomic structure of APC homologues . Mammalian APC2 , which closely resembles APC in overall domain structure , was functionally analyzed and shown to contain two SAMP domains , both of which are required for binding to conductin . Like APC , APC2 regulates the formation of active betacatenin-Tcf complexes , as demonstrated using transient transcriptional activation assays in APC - / - <category=\"Modifier\">colon carcinoma</category> cells . Human APC2 maps to chromosome 19p13 . 3 . APC and APC2 may therefore have comparable functions in development and <category=\"SpecificDisease\">cancer</category> .\n",
      "\n"
     ]
    }
   ],
   "source": [
    "for line in open(file):\n",
    "    print(line)\n",
    "    break"
   ]
  },
  {
   "cell_type": "code",
   "execution_count": 8,
   "metadata": {},
   "outputs": [
    {
     "data": {
      "text/plain": [
       "'10021369\\tIdentification of APC2, a homologue of the <category=\"Modifier\">adenomatous polyposis coli tumour</category> suppressor .\\tThe <category=\"Modifier\">adenomatous polyposis coli ( APC ) tumour</category>-suppressor protein controls the Wnt signalling pathway by forming a complex with glycogen synthase kinase 3beta ( GSK-3beta ) , axin / conductin and betacatenin . Complex formation induces the rapid degradation of betacatenin . In <category=\"Modifier\">colon carcinoma</category> cells , loss of APC leads to the accumulation of betacatenin in the nucleus , where it binds to and activates the Tcf-4 transcription factor ( reviewed in [ 1 ] [ 2 ] ) . Here , we report the identification and genomic structure of APC homologues . Mammalian APC2 , which closely resembles APC in overall domain structure , was functionally analyzed and shown to contain two SAMP domains , both of which are required for binding to conductin . Like APC , APC2 regulates the formation of active betacatenin-Tcf complexes , as demonstrated using transient transcriptional activation assays in APC - / - <category=\"Modifier\">colon carcinoma</category> cells . Human APC2 maps to chromosome 19p13 . 3 . APC and APC2 may therefore have comparable functions in development and <category=\"SpecificDisease\">cancer</category> .\\n'"
      ]
     },
     "execution_count": 8,
     "metadata": {},
     "output_type": "execute_result"
    }
   ],
   "source": [
    "line"
   ]
  },
  {
   "cell_type": "code",
   "execution_count": 9,
   "metadata": {},
   "outputs": [
    {
     "data": {
      "text/plain": [
       "['10021369',\n",
       " 'Identification',\n",
       " 'of',\n",
       " 'APC2,',\n",
       " 'a',\n",
       " 'homologue',\n",
       " 'of',\n",
       " 'the',\n",
       " '<category=\"Modifier\">adenomatous',\n",
       " 'polyposis',\n",
       " 'coli',\n",
       " 'tumour</category>',\n",
       " 'suppressor',\n",
       " '.',\n",
       " 'The',\n",
       " '<category=\"Modifier\">adenomatous',\n",
       " 'polyposis',\n",
       " 'coli',\n",
       " '(',\n",
       " 'APC',\n",
       " ')',\n",
       " 'tumour</category>-suppressor',\n",
       " 'protein',\n",
       " 'controls',\n",
       " 'the',\n",
       " 'Wnt',\n",
       " 'signalling',\n",
       " 'pathway',\n",
       " 'by',\n",
       " 'forming',\n",
       " 'a',\n",
       " 'complex',\n",
       " 'with',\n",
       " 'glycogen',\n",
       " 'synthase',\n",
       " 'kinase',\n",
       " '3beta',\n",
       " '(',\n",
       " 'GSK-3beta',\n",
       " ')',\n",
       " ',',\n",
       " 'axin',\n",
       " '/',\n",
       " 'conductin',\n",
       " 'and',\n",
       " 'betacatenin',\n",
       " '.',\n",
       " 'Complex',\n",
       " 'formation',\n",
       " 'induces',\n",
       " 'the',\n",
       " 'rapid',\n",
       " 'degradation',\n",
       " 'of',\n",
       " 'betacatenin',\n",
       " '.',\n",
       " 'In',\n",
       " '<category=\"Modifier\">colon',\n",
       " 'carcinoma</category>',\n",
       " 'cells',\n",
       " ',',\n",
       " 'loss',\n",
       " 'of',\n",
       " 'APC',\n",
       " 'leads',\n",
       " 'to',\n",
       " 'the',\n",
       " 'accumulation',\n",
       " 'of',\n",
       " 'betacatenin',\n",
       " 'in',\n",
       " 'the',\n",
       " 'nucleus',\n",
       " ',',\n",
       " 'where',\n",
       " 'it',\n",
       " 'binds',\n",
       " 'to',\n",
       " 'and',\n",
       " 'activates',\n",
       " 'the',\n",
       " 'Tcf-4',\n",
       " 'transcription',\n",
       " 'factor',\n",
       " '(',\n",
       " 'reviewed',\n",
       " 'in',\n",
       " '[',\n",
       " '1',\n",
       " ']',\n",
       " '[',\n",
       " '2',\n",
       " ']',\n",
       " ')',\n",
       " '.',\n",
       " 'Here',\n",
       " ',',\n",
       " 'we',\n",
       " 'report',\n",
       " 'the',\n",
       " 'identification',\n",
       " 'and',\n",
       " 'genomic',\n",
       " 'structure',\n",
       " 'of',\n",
       " 'APC',\n",
       " 'homologues',\n",
       " '.',\n",
       " 'Mammalian',\n",
       " 'APC2',\n",
       " ',',\n",
       " 'which',\n",
       " 'closely',\n",
       " 'resembles',\n",
       " 'APC',\n",
       " 'in',\n",
       " 'overall',\n",
       " 'domain',\n",
       " 'structure',\n",
       " ',',\n",
       " 'was',\n",
       " 'functionally',\n",
       " 'analyzed',\n",
       " 'and',\n",
       " 'shown',\n",
       " 'to',\n",
       " 'contain',\n",
       " 'two',\n",
       " 'SAMP',\n",
       " 'domains',\n",
       " ',',\n",
       " 'both',\n",
       " 'of',\n",
       " 'which',\n",
       " 'are',\n",
       " 'required',\n",
       " 'for',\n",
       " 'binding',\n",
       " 'to',\n",
       " 'conductin',\n",
       " '.',\n",
       " 'Like',\n",
       " 'APC',\n",
       " ',',\n",
       " 'APC2',\n",
       " 'regulates',\n",
       " 'the',\n",
       " 'formation',\n",
       " 'of',\n",
       " 'active',\n",
       " 'betacatenin-Tcf',\n",
       " 'complexes',\n",
       " ',',\n",
       " 'as',\n",
       " 'demonstrated',\n",
       " 'using',\n",
       " 'transient',\n",
       " 'transcriptional',\n",
       " 'activation',\n",
       " 'assays',\n",
       " 'in',\n",
       " 'APC',\n",
       " '-',\n",
       " '/',\n",
       " '-',\n",
       " '<category=\"Modifier\">colon',\n",
       " 'carcinoma</category>',\n",
       " 'cells',\n",
       " '.',\n",
       " 'Human',\n",
       " 'APC2',\n",
       " 'maps',\n",
       " 'to',\n",
       " 'chromosome',\n",
       " '19p13',\n",
       " '.',\n",
       " '3',\n",
       " '.',\n",
       " 'APC',\n",
       " 'and',\n",
       " 'APC2',\n",
       " 'may',\n",
       " 'therefore',\n",
       " 'have',\n",
       " 'comparable',\n",
       " 'functions',\n",
       " 'in',\n",
       " 'development',\n",
       " 'and',\n",
       " '<category=\"SpecificDisease\">cancer</category>',\n",
       " '.']"
      ]
     },
     "execution_count": 9,
     "metadata": {},
     "output_type": "execute_result"
    }
   ],
   "source": [
    "line.split()"
   ]
  },
  {
   "cell_type": "markdown",
   "metadata": {},
   "source": [
    "## Modify the text"
   ]
  },
  {
   "cell_type": "code",
   "execution_count": 10,
   "metadata": {},
   "outputs": [],
   "source": [
    "import re"
   ]
  },
  {
   "cell_type": "code",
   "execution_count": 13,
   "metadata": {},
   "outputs": [],
   "source": [
    "old_tag = '<category=\"Modifier\">'\n",
    "new_tag = \" <START_NER_Modifier> \""
   ]
  },
  {
   "cell_type": "code",
   "execution_count": 14,
   "metadata": {},
   "outputs": [
    {
     "data": {
      "text/plain": [
       "'10021369\\tIdentification of APC2, a homologue of the  <START_NER_Modifier> adenomatous polyposis coli tumour</category> suppressor .\\tThe  <START_NER_Modifier> adenomatous polyposis coli ( APC ) tumour</category>-suppressor protein controls the Wnt signalling pathway by forming a complex with glycogen synthase kinase 3beta ( GSK-3beta ) , axin / conductin and betacatenin . Complex formation induces the rapid degradation of betacatenin . In  <START_NER_Modifier> colon carcinoma</category> cells , loss of APC leads to the accumulation of betacatenin in the nucleus , where it binds to and activates the Tcf-4 transcription factor ( reviewed in [ 1 ] [ 2 ] ) . Here , we report the identification and genomic structure of APC homologues . Mammalian APC2 , which closely resembles APC in overall domain structure , was functionally analyzed and shown to contain two SAMP domains , both of which are required for binding to conductin . Like APC , APC2 regulates the formation of active betacatenin-Tcf complexes , as demonstrated using transient transcriptional activation assays in APC - / -  <START_NER_Modifier> colon carcinoma</category> cells . Human APC2 maps to chromosome 19p13 . 3 . APC and APC2 may therefore have comparable functions in development and <category=\"SpecificDisease\">cancer</category> .\\n'"
      ]
     },
     "execution_count": 14,
     "metadata": {},
     "output_type": "execute_result"
    }
   ],
   "source": [
    "text = re.sub(old_tag, new_tag, line)\n",
    "text"
   ]
  },
  {
   "cell_type": "code",
   "execution_count": 24,
   "metadata": {},
   "outputs": [],
   "source": [
    "dict_map = {\n",
    "    '<category=\"Modifier\">':' <START_NER_Modifier> ',\n",
    "    '<category=\"SpecificDisease\">':' <START_NER_SpecificDisease> ',\n",
    "    '<category=\"DiseaseClass\">':' <START_NER_DiseaseClass> ',\n",
    "    '<category=\"CompositeMention\">':' <START_NER_CompositeMention> ',\n",
    "    '</category>':' <END_NER> ',\n",
    "}"
   ]
  },
  {
   "cell_type": "code",
   "execution_count": 28,
   "metadata": {},
   "outputs": [],
   "source": [
    "text = line"
   ]
  },
  {
   "cell_type": "code",
   "execution_count": 29,
   "metadata": {},
   "outputs": [],
   "source": [
    "for k, v in dict_map.items():\n",
    "    text = re.sub(k,v, text)"
   ]
  },
  {
   "cell_type": "code",
   "execution_count": 30,
   "metadata": {},
   "outputs": [
    {
     "name": "stdout",
     "output_type": "stream",
     "text": [
      "10021369\tIdentification of APC2, a homologue of the  <START_NER_Modifier> adenomatous polyposis coli tumour <END_NER>  suppressor .\tThe  <START_NER_Modifier> adenomatous polyposis coli ( APC ) tumour <END_NER> -suppressor protein controls the Wnt signalling pathway by forming a complex with glycogen synthase kinase 3beta ( GSK-3beta ) , axin / conductin and betacatenin . Complex formation induces the rapid degradation of betacatenin . In  <START_NER_Modifier> colon carcinoma <END_NER>  cells , loss of APC leads to the accumulation of betacatenin in the nucleus , where it binds to and activates the Tcf-4 transcription factor ( reviewed in [ 1 ] [ 2 ] ) . Here , we report the identification and genomic structure of APC homologues . Mammalian APC2 , which closely resembles APC in overall domain structure , was functionally analyzed and shown to contain two SAMP domains , both of which are required for binding to conductin . Like APC , APC2 regulates the formation of active betacatenin-Tcf complexes , as demonstrated using transient transcriptional activation assays in APC - / -  <START_NER_Modifier> colon carcinoma <END_NER>  cells . Human APC2 maps to chromosome 19p13 . 3 . APC and APC2 may therefore have comparable functions in development and  <START_NER_SpecificDisease> cancer <END_NER>  .\n",
      "\n"
     ]
    }
   ],
   "source": [
    "print(text)"
   ]
  },
  {
   "cell_type": "code",
   "execution_count": 31,
   "metadata": {},
   "outputs": [],
   "source": [
    "def modify_label(text, dict_map):\n",
    "    for k, v in dict_map.items():\n",
    "        text = re.sub(k,v, text)\n",
    "    return text"
   ]
  },
  {
   "cell_type": "code",
   "execution_count": 32,
   "metadata": {},
   "outputs": [],
   "source": [
    "for line in open(file):\n",
    "    text = modify_label(line, dict_map)\n",
    "    break"
   ]
  },
  {
   "cell_type": "code",
   "execution_count": 33,
   "metadata": {},
   "outputs": [
    {
     "data": {
      "text/plain": [
       "'10021369\\tIdentification of APC2, a homologue of the  <START_NER_Modifier> adenomatous polyposis coli tumour <END_NER>  suppressor .\\tThe  <START_NER_Modifier> adenomatous polyposis coli ( APC ) tumour <END_NER> -suppressor protein controls the Wnt signalling pathway by forming a complex with glycogen synthase kinase 3beta ( GSK-3beta ) , axin / conductin and betacatenin . Complex formation induces the rapid degradation of betacatenin . In  <START_NER_Modifier> colon carcinoma <END_NER>  cells , loss of APC leads to the accumulation of betacatenin in the nucleus , where it binds to and activates the Tcf-4 transcription factor ( reviewed in [ 1 ] [ 2 ] ) . Here , we report the identification and genomic structure of APC homologues . Mammalian APC2 , which closely resembles APC in overall domain structure , was functionally analyzed and shown to contain two SAMP domains , both of which are required for binding to conductin . Like APC , APC2 regulates the formation of active betacatenin-Tcf complexes , as demonstrated using transient transcriptional activation assays in APC - / -  <START_NER_Modifier> colon carcinoma <END_NER>  cells . Human APC2 maps to chromosome 19p13 . 3 . APC and APC2 may therefore have comparable functions in development and  <START_NER_SpecificDisease> cancer <END_NER>  .\\n'"
      ]
     },
     "execution_count": 33,
     "metadata": {},
     "output_type": "execute_result"
    }
   ],
   "source": [
    "text"
   ]
  },
  {
   "cell_type": "markdown",
   "metadata": {},
   "source": [
    "## Sentence and Word Tokenizing"
   ]
  },
  {
   "cell_type": "code",
   "execution_count": 35,
   "metadata": {},
   "outputs": [],
   "source": [
    "from nltk.tokenize import sent_tokenize\n",
    "from nltk.tokenize import word_tokenize"
   ]
  },
  {
   "cell_type": "code",
   "execution_count": 36,
   "metadata": {},
   "outputs": [
    {
     "data": {
      "text/plain": [
       "['10021369\\tIdentification of APC2, a homologue of the  <START_NER_Modifier> adenomatous polyposis coli tumour <END_NER>  suppressor .',\n",
       " 'The  <START_NER_Modifier> adenomatous polyposis coli ( APC ) tumour <END_NER> -suppressor protein controls the Wnt signalling pathway by forming a complex with glycogen synthase kinase 3beta ( GSK-3beta ) , axin / conductin and betacatenin .',\n",
       " 'Complex formation induces the rapid degradation of betacatenin .',\n",
       " 'In  <START_NER_Modifier> colon carcinoma <END_NER>  cells , loss of APC leads to the accumulation of betacatenin in the nucleus , where it binds to and activates the Tcf-4 transcription factor ( reviewed in [ 1 ] [ 2 ] ) .',\n",
       " 'Here , we report the identification and genomic structure of APC homologues .',\n",
       " 'Mammalian APC2 , which closely resembles APC in overall domain structure , was functionally analyzed and shown to contain two SAMP domains , both of which are required for binding to conductin .',\n",
       " 'Like APC , APC2 regulates the formation of active betacatenin-Tcf complexes , as demonstrated using transient transcriptional activation assays in APC - / -  <START_NER_Modifier> colon carcinoma <END_NER>  cells .',\n",
       " 'Human APC2 maps to chromosome 19p13 .',\n",
       " '3 .',\n",
       " 'APC and APC2 may therefore have comparable functions in development and  <START_NER_SpecificDisease> cancer <END_NER>  .']"
      ]
     },
     "execution_count": 36,
     "metadata": {},
     "output_type": "execute_result"
    }
   ],
   "source": [
    "sent_tokenize(text)"
   ]
  },
  {
   "cell_type": "code",
   "execution_count": 37,
   "metadata": {},
   "outputs": [],
   "source": [
    "sentences = sent_tokenize(text)"
   ]
  },
  {
   "cell_type": "code",
   "execution_count": 40,
   "metadata": {},
   "outputs": [
    {
     "name": "stdout",
     "output_type": "stream",
     "text": [
      "['10021369', 'Identification', 'of', 'APC2', ',', 'a', 'homologue', 'of', 'the', 'START_NER_Modifier', 'adenomatous', 'polyposis', 'coli', 'tumour', 'END_NER', 'suppressor', '.']\n",
      "['The', 'START_NER_Modifier', 'adenomatous', 'polyposis', 'coli', '(', 'APC', ')', 'tumour', 'END_NER', '-suppressor', 'protein', 'controls', 'the', 'Wnt', 'signalling', 'pathway', 'by', 'forming', 'a', 'complex', 'with', 'glycogen', 'synthase', 'kinase', '3beta', '(', 'GSK-3beta', ')', ',', 'axin', '/', 'conductin', 'and', 'betacatenin', '.']\n",
      "['Complex', 'formation', 'induces', 'the', 'rapid', 'degradation', 'of', 'betacatenin', '.']\n",
      "['In', 'START_NER_Modifier', 'colon', 'carcinoma', 'END_NER', 'cells', ',', 'loss', 'of', 'APC', 'leads', 'to', 'the', 'accumulation', 'of', 'betacatenin', 'in', 'the', 'nucleus', ',', 'where', 'it', 'binds', 'to', 'and', 'activates', 'the', 'Tcf-4', 'transcription', 'factor', '(', 'reviewed', 'in', '[', '1', ']', '[', '2', ']', ')', '.']\n",
      "['Here', ',', 'we', 'report', 'the', 'identification', 'and', 'genomic', 'structure', 'of', 'APC', 'homologues', '.']\n",
      "['Mammalian', 'APC2', ',', 'which', 'closely', 'resembles', 'APC', 'in', 'overall', 'domain', 'structure', ',', 'was', 'functionally', 'analyzed', 'and', 'shown', 'to', 'contain', 'two', 'SAMP', 'domains', ',', 'both', 'of', 'which', 'are', 'required', 'for', 'binding', 'to', 'conductin', '.']\n",
      "['Like', 'APC', ',', 'APC2', 'regulates', 'the', 'formation', 'of', 'active', 'betacatenin-Tcf', 'complexes', ',', 'as', 'demonstrated', 'using', 'transient', 'transcriptional', 'activation', 'assays', 'in', 'APC', '-', '/', '-', 'START_NER_Modifier', 'colon', 'carcinoma', 'END_NER', 'cells', '.']\n",
      "['Human', 'APC2', 'maps', 'to', 'chromosome', '19p13', '.']\n",
      "['3', '.']\n",
      "['APC', 'and', 'APC2', 'may', 'therefore', 'have', 'comparable', 'functions', 'in', 'development', 'and', 'START_NER_SpecificDisease', 'cancer', 'END_NER', '.']\n"
     ]
    }
   ],
   "source": [
    "for s in sentences:\n",
    "    print([t for t in word_tokenize(s)if t not in ['<','>']])"
   ]
  },
  {
   "cell_type": "code",
   "execution_count": 43,
   "metadata": {},
   "outputs": [],
   "source": [
    "for s in sentences:\n",
    "    tokens = [t for t in word_tokenize(s)if t not in ['<','>']]\n",
    "    break"
   ]
  },
  {
   "cell_type": "markdown",
   "metadata": {},
   "source": [
    "## Text to ConLL "
   ]
  },
  {
   "cell_type": "code",
   "execution_count": null,
   "metadata": {},
   "outputs": [],
   "source": [
    "# Next week we will continue from this point. "
   ]
  },
  {
   "cell_type": "code",
   "execution_count": 47,
   "metadata": {},
   "outputs": [
    {
     "name": "stdout",
     "output_type": "stream",
     "text": [
      "10021369 NN NN O\n",
      "Identification NN NN O\n",
      "of NN NN O\n",
      "APC2 NN NN O\n",
      ", NN NN O\n",
      "a NN NN O\n",
      "homologue NN NN O\n",
      "of NN NN O\n",
      "the NN NN O\n",
      "adenomatous NN NN Modifier\n",
      "polyposis NN NN Modifier\n",
      "coli NN NN Modifier\n",
      "tumour NN NN Modifier\n",
      "END_NER NN NN Modifier\n",
      "suppressor NN NN Modifier\n",
      ". NN NN Modifier\n"
     ]
    }
   ],
   "source": [
    "label = 'O'\n",
    "for t in tokens:\n",
    "    if t.startswith(\"START_NER_\"):\n",
    "        label = \"Modifier\"\n",
    "        continue\n",
    "    print(f\"{t} NN NN {label}\")"
   ]
  },
  {
   "cell_type": "code",
   "execution_count": null,
   "metadata": {},
   "outputs": [],
   "source": []
  },
  {
   "cell_type": "code",
   "execution_count": null,
   "metadata": {},
   "outputs": [],
   "source": []
  },
  {
   "cell_type": "code",
   "execution_count": null,
   "metadata": {},
   "outputs": [],
   "source": []
  },
  {
   "cell_type": "code",
   "execution_count": null,
   "metadata": {},
   "outputs": [],
   "source": []
  },
  {
   "cell_type": "code",
   "execution_count": null,
   "metadata": {},
   "outputs": [],
   "source": []
  }
 ],
 "metadata": {
  "interpreter": {
   "hash": "02909133c842bea5b9844dfca84ea9debb08fdd429c8f0109bc3b4709ce04e96"
  },
  "kernelspec": {
   "display_name": "Python 3",
   "language": "python",
   "name": "python3"
  },
  "language_info": {
   "codemirror_mode": {
    "name": "ipython",
    "version": 3
   },
   "file_extension": ".py",
   "mimetype": "text/x-python",
   "name": "python",
   "nbconvert_exporter": "python",
   "pygments_lexer": "ipython3",
   "version": "3.8.8"
  }
 },
 "nbformat": 4,
 "nbformat_minor": 2
}
