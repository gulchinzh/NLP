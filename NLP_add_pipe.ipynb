{
 "cells": [
  {
   "cell_type": "code",
   "execution_count": 1,
   "id": "1004a325",
   "metadata": {},
   "outputs": [],
   "source": [
    "import spacy"
   ]
  },
  {
   "cell_type": "code",
   "execution_count": 2,
   "id": "2aca5aeb",
   "metadata": {},
   "outputs": [],
   "source": [
    "nlp = spacy.load('en_core_web_sm')"
   ]
  },
  {
   "cell_type": "code",
   "execution_count": 7,
   "id": "9d7f90e1",
   "metadata": {},
   "outputs": [],
   "source": [
    "text = 'Northen Virginia was referenced in Spider Man.'"
   ]
  },
  {
   "cell_type": "code",
   "execution_count": 8,
   "id": "8244829c",
   "metadata": {},
   "outputs": [
    {
     "data": {
      "text/plain": [
       "Northen Virginia was referenced in Spider Man."
      ]
     },
     "execution_count": 8,
     "metadata": {},
     "output_type": "execute_result"
    }
   ],
   "source": [
    "doc = nlp(text)\n",
    "doc"
   ]
  },
  {
   "cell_type": "code",
   "execution_count": 9,
   "id": "79a764fa",
   "metadata": {},
   "outputs": [
    {
     "name": "stdout",
     "output_type": "stream",
     "text": [
      "Northen Virginia PERSON\n",
      "Spider Man PERSON\n"
     ]
    }
   ],
   "source": [
    "for ent in doc.ents:\n",
    "    print(ent.text, ent.label_)"
   ]
  },
  {
   "cell_type": "code",
   "execution_count": null,
   "id": "ae08adc3",
   "metadata": {},
   "outputs": [],
   "source": [
    "# yer adina ve kino adina PERSON dedi yalnis bildi, bunu duzeldek"
   ]
  },
  {
   "cell_type": "code",
   "execution_count": 10,
   "id": "636c97a7",
   "metadata": {},
   "outputs": [],
   "source": [
    "ruler = nlp.add_pipe('entity_ruler')"
   ]
  },
  {
   "cell_type": "code",
   "execution_count": 11,
   "id": "ad46d35e",
   "metadata": {},
   "outputs": [
    {
     "data": {
      "text/plain": [
       "{'summary': {'tok2vec': {'assigns': ['doc.tensor'],\n",
       "   'requires': [],\n",
       "   'scores': [],\n",
       "   'retokenizes': False},\n",
       "  'tagger': {'assigns': ['token.tag'],\n",
       "   'requires': [],\n",
       "   'scores': ['tag_acc'],\n",
       "   'retokenizes': False},\n",
       "  'parser': {'assigns': ['token.dep',\n",
       "    'token.head',\n",
       "    'token.is_sent_start',\n",
       "    'doc.sents'],\n",
       "   'requires': [],\n",
       "   'scores': ['dep_uas',\n",
       "    'dep_las',\n",
       "    'dep_las_per_type',\n",
       "    'sents_p',\n",
       "    'sents_r',\n",
       "    'sents_f'],\n",
       "   'retokenizes': False},\n",
       "  'ner': {'assigns': ['doc.ents', 'token.ent_iob', 'token.ent_type'],\n",
       "   'requires': [],\n",
       "   'scores': ['ents_f', 'ents_p', 'ents_r', 'ents_per_type'],\n",
       "   'retokenizes': False},\n",
       "  'attribute_ruler': {'assigns': [],\n",
       "   'requires': [],\n",
       "   'scores': [],\n",
       "   'retokenizes': False},\n",
       "  'lemmatizer': {'assigns': ['token.lemma'],\n",
       "   'requires': [],\n",
       "   'scores': ['lemma_acc'],\n",
       "   'retokenizes': False},\n",
       "  'entity_ruler': {'assigns': ['doc.ents', 'token.ent_type', 'token.ent_iob'],\n",
       "   'requires': [],\n",
       "   'scores': ['ents_f', 'ents_p', 'ents_r', 'ents_per_type'],\n",
       "   'retokenizes': False}},\n",
       " 'problems': {'tok2vec': [],\n",
       "  'tagger': [],\n",
       "  'parser': [],\n",
       "  'ner': [],\n",
       "  'attribute_ruler': [],\n",
       "  'lemmatizer': [],\n",
       "  'entity_ruler': []},\n",
       " 'attrs': {'token.tag': {'assigns': ['tagger'], 'requires': []},\n",
       "  'doc.tensor': {'assigns': ['tok2vec'], 'requires': []},\n",
       "  'token.ent_type': {'assigns': ['ner', 'entity_ruler'], 'requires': []},\n",
       "  'doc.sents': {'assigns': ['parser'], 'requires': []},\n",
       "  'token.lemma': {'assigns': ['lemmatizer'], 'requires': []},\n",
       "  'token.head': {'assigns': ['parser'], 'requires': []},\n",
       "  'token.ent_iob': {'assigns': ['ner', 'entity_ruler'], 'requires': []},\n",
       "  'token.dep': {'assigns': ['parser'], 'requires': []},\n",
       "  'token.is_sent_start': {'assigns': ['parser'], 'requires': []},\n",
       "  'doc.ents': {'assigns': ['ner', 'entity_ruler'], 'requires': []}}}"
      ]
     },
     "execution_count": 11,
     "metadata": {},
     "output_type": "execute_result"
    }
   ],
   "source": [
    "nlp.analyze_pipes()"
   ]
  },
  {
   "cell_type": "code",
   "execution_count": 12,
   "id": "ef520b9a",
   "metadata": {},
   "outputs": [],
   "source": [
    "patterns = [\n",
    "       {'label':'GPE', 'pattern':'Northen Virginia'}\n",
    "]"
   ]
  },
  {
   "cell_type": "code",
   "execution_count": 13,
   "id": "62f004f7",
   "metadata": {},
   "outputs": [],
   "source": [
    "ruler.add_patterns(patterns)"
   ]
  },
  {
   "cell_type": "code",
   "execution_count": 14,
   "id": "b5d673c5",
   "metadata": {},
   "outputs": [
    {
     "name": "stdout",
     "output_type": "stream",
     "text": [
      "Northen Virginia PERSON\n",
      "Spider Man PERSON\n"
     ]
    }
   ],
   "source": [
    "doc2 = nlp(text)\n",
    "\n",
    "for ent in doc2.ents:\n",
    "    print(ent.text, ent.label_)"
   ]
  },
  {
   "cell_type": "code",
   "execution_count": null,
   "id": "1d6c8e73",
   "metadata": {},
   "outputs": [],
   "source": [
    "# gotduyumuz kimi deyismedi, cunku yuxarida nlp.analyze_pipes() baxsaq\n",
    "# gorerik ki 'ner' 'entity ruler' dan once gelir, ilk 'entity ruler'\n",
    "# gelmelidir ki deyisiklik olsun"
   ]
  },
  {
   "cell_type": "code",
   "execution_count": 15,
   "id": "0647c011",
   "metadata": {},
   "outputs": [],
   "source": [
    "nlp2 = spacy.load('en_core_web_sm')"
   ]
  },
  {
   "cell_type": "code",
   "execution_count": 16,
   "id": "7be7d889",
   "metadata": {},
   "outputs": [],
   "source": [
    "ruler = nlp2.add_pipe('entity_ruler', before = 'ner')"
   ]
  },
  {
   "cell_type": "code",
   "execution_count": 21,
   "id": "ccd18bd3",
   "metadata": {},
   "outputs": [],
   "source": [
    "patterns = [\n",
    "        {'label':'GPE', 'pattern':'Northen Virginia'},\n",
    "        {'label':'Film', 'pattern':'Spider Man'}\n",
    "]"
   ]
  },
  {
   "cell_type": "code",
   "execution_count": 22,
   "id": "9db2c2e5",
   "metadata": {},
   "outputs": [],
   "source": [
    "ruler.add_patterns(patterns)"
   ]
  },
  {
   "cell_type": "code",
   "execution_count": 25,
   "id": "dc1b3f85",
   "metadata": {},
   "outputs": [
    {
     "name": "stdout",
     "output_type": "stream",
     "text": [
      "Northen Virginia GPE\n",
      "Spider Man Film\n"
     ]
    }
   ],
   "source": [
    "doc = nlp2(text)\n",
    "\n",
    "for ent in doc.ents:\n",
    "    print(ent.text, ent.label_)"
   ]
  },
  {
   "cell_type": "code",
   "execution_count": null,
   "id": "5ffbff62",
   "metadata": {},
   "outputs": [],
   "source": []
  },
  {
   "cell_type": "code",
   "execution_count": 44,
   "id": "2e86ec15",
   "metadata": {},
   "outputs": [],
   "source": [
    "n = spacy.load('en_core_web_sm')"
   ]
  },
  {
   "cell_type": "code",
   "execution_count": 45,
   "id": "2d2f3ee9",
   "metadata": {},
   "outputs": [],
   "source": [
    "t = 'Reston was referenced in Spider Man'"
   ]
  },
  {
   "cell_type": "code",
   "execution_count": 46,
   "id": "66917e2e",
   "metadata": {},
   "outputs": [
    {
     "name": "stdout",
     "output_type": "stream",
     "text": [
      "Reston PERSON\n",
      "Spider Man PERSON\n"
     ]
    }
   ],
   "source": [
    "d = n(t)\n",
    "for en in d.ents:\n",
    "    print(en.text, en.label_)"
   ]
  },
  {
   "cell_type": "code",
   "execution_count": 47,
   "id": "fcc58ac2",
   "metadata": {},
   "outputs": [],
   "source": [
    "n2 = spacy.load('en_core_web_sm')"
   ]
  },
  {
   "cell_type": "code",
   "execution_count": 48,
   "id": "e480657c",
   "metadata": {},
   "outputs": [],
   "source": [
    "ruler = n2.add_pipe('entity_ruler', before = 'ner')"
   ]
  },
  {
   "cell_type": "code",
   "execution_count": 49,
   "id": "437017d5",
   "metadata": {},
   "outputs": [],
   "source": [
    "pattern2 = [\n",
    "    {'label':'GPE', 'pattern':'Reston'},\n",
    "    {'label':'Film','pattern':'Spider Man'}\n",
    "]"
   ]
  },
  {
   "cell_type": "code",
   "execution_count": 50,
   "id": "990254d4",
   "metadata": {},
   "outputs": [],
   "source": [
    "ruler.add_patterns(pattern2)"
   ]
  },
  {
   "cell_type": "code",
   "execution_count": 53,
   "id": "eb24b09d",
   "metadata": {},
   "outputs": [
    {
     "name": "stdout",
     "output_type": "stream",
     "text": [
      "Reston GPE\n",
      "Spider Man Film\n"
     ]
    }
   ],
   "source": [
    "d2 = n2(t)\n",
    "for ent in d2.ents:\n",
    "    print(ent.text, ent.label_)"
   ]
  },
  {
   "cell_type": "code",
   "execution_count": null,
   "id": "d501c7a9",
   "metadata": {},
   "outputs": [],
   "source": []
  },
  {
   "cell_type": "code",
   "execution_count": null,
   "id": "49fc4745",
   "metadata": {},
   "outputs": [],
   "source": []
  },
  {
   "cell_type": "code",
   "execution_count": null,
   "id": "e079969e",
   "metadata": {},
   "outputs": [],
   "source": []
  },
  {
   "cell_type": "code",
   "execution_count": null,
   "id": "6b4c712c",
   "metadata": {},
   "outputs": [],
   "source": []
  },
  {
   "cell_type": "code",
   "execution_count": null,
   "id": "c24b06b4",
   "metadata": {},
   "outputs": [],
   "source": []
  },
  {
   "cell_type": "code",
   "execution_count": null,
   "id": "d26ff295",
   "metadata": {},
   "outputs": [],
   "source": []
  },
  {
   "cell_type": "code",
   "execution_count": null,
   "id": "e83150c0",
   "metadata": {},
   "outputs": [],
   "source": []
  }
 ],
 "metadata": {
  "kernelspec": {
   "display_name": "Python 3",
   "language": "python",
   "name": "python3"
  },
  "language_info": {
   "codemirror_mode": {
    "name": "ipython",
    "version": 3
   },
   "file_extension": ".py",
   "mimetype": "text/x-python",
   "name": "python",
   "nbconvert_exporter": "python",
   "pygments_lexer": "ipython3",
   "version": "3.8.8"
  }
 },
 "nbformat": 4,
 "nbformat_minor": 5
}
